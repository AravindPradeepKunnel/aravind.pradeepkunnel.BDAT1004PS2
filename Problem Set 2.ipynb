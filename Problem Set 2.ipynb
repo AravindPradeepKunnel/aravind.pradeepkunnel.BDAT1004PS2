{
 "cells": [
  {
   "cell_type": "markdown",
   "id": "51a9513b",
   "metadata": {},
   "source": [
    "#QUESTION 1"
   ]
  },
  {
   "cell_type": "code",
   "execution_count": 1,
   "id": "1c1a9a7c",
   "metadata": {},
   "outputs": [],
   "source": [
    "a = 0 \n",
    "def b():\n",
    "  global a\n",
    "  a = c(a)\n",
    "    \n",
    "def c(a):\n",
    " return a + 2\n",
    "\n"
   ]
  },
  {
   "cell_type": "code",
   "execution_count": 2,
   "id": "904de74b",
   "metadata": {},
   "outputs": [
    {
     "data": {
      "text/plain": [
       "6"
      ]
     },
     "execution_count": 2,
     "metadata": {},
     "output_type": "execute_result"
    }
   ],
   "source": [
    "b()\n",
    "b()\n",
    "b()\n",
    "a"
   ]
  },
  {
   "cell_type": "markdown",
   "id": "f82d95fc",
   "metadata": {},
   "source": [
    "Initialize variable 'a' as 0: a = 0.\n",
    "\n",
    "Define function 'b' and specify global variable 'a'.\n",
    "\n",
    "Call function 'c(a)' within 'b', which adds 2 to 'a'.\n",
    "\n",
    "Define function 'c' that takes argument 'a' and returns 'a + 2'.\n",
    "\n",
    "The b() function is called for the first time. Inside b(), c(a) is invoked with a being 0. As a result, a becomes 2.\n",
    "\n",
    "The b() function is called again. Within b(), c(a) is called with a now equal to 2. This updates a to 4.\n",
    "\n",
    "The b() function is called for the third time. Inside b(), c(a) is invoked with a as 4. Consequently, a is modified to 6.\n",
    "\n",
    "Finally, the value of a is printed, which is 6."
   ]
  },
  {
   "cell_type": "markdown",
   "id": "532bf403",
   "metadata": {},
   "source": [
    "#QUESTION 3"
   ]
  },
  {
   "cell_type": "code",
   "execution_count": 9,
   "id": "8bd5576f",
   "metadata": {},
   "outputs": [],
   "source": [
    "class Marsupial:\n",
    "    def __init__(self):\n",
    "        self.pouch = []\n",
    "\n",
    "    def put_in_pouch(self, item):\n",
    "        self.pouch.append(item)\n",
    "\n",
    "    def pouch_contents(self):\n",
    "        return self.pouch"
   ]
  },
  {
   "cell_type": "code",
   "execution_count": 10,
   "id": "f76a39eb",
   "metadata": {},
   "outputs": [
    {
     "name": "stdout",
     "output_type": "stream",
     "text": [
      "['doll', 'firetruck', 'kitten']\n"
     ]
    }
   ],
   "source": [
    "m = Marsupial()\n",
    "m.put_in_pouch('doll')\n",
    "m.put_in_pouch('firetruck')\n",
    "m.put_in_pouch('kitten')\n",
    "print(m.pouch_contents())"
   ]
  },
  {
   "cell_type": "code",
   "execution_count": 12,
   "id": "84a5597f",
   "metadata": {},
   "outputs": [],
   "source": [
    "class Kangaroo(Marsupial):\n",
    "    def __init__(self, x, y):\n",
    "        super().__init__()\n",
    "        self.x = x\n",
    "        self.y = y\n",
    "\n",
    "    def jump(self, dx, dy):\n",
    "        self.x += dx\n",
    "        self.y += dy\n",
    "\n",
    "    def __str__(self):\n",
    "        return f\"I am a Kangaroo located at coordinates ({self.x},{self.y})\""
   ]
  },
  {
   "cell_type": "code",
   "execution_count": 13,
   "id": "d23e91ea",
   "metadata": {},
   "outputs": [
    {
     "name": "stdout",
     "output_type": "stream",
     "text": [
      "I am a Kangaroo located at coordinates (0,0)\n"
     ]
    }
   ],
   "source": [
    "k = Kangaroo(0, 0)\n",
    "print(k) "
   ]
  },
  {
   "cell_type": "code",
   "execution_count": 14,
   "id": "478f9849",
   "metadata": {},
   "outputs": [
    {
     "data": {
      "text/plain": [
       "['doll', 'firetruck', 'kitten']"
      ]
     },
     "execution_count": 14,
     "metadata": {},
     "output_type": "execute_result"
    }
   ],
   "source": [
    "k.put_in_pouch('doll')\n",
    "k.put_in_pouch('firetruck')\n",
    "k.put_in_pouch('kitten')\n",
    "k.pouch_contents()"
   ]
  },
  {
   "cell_type": "code",
   "execution_count": 15,
   "id": "313bcbea",
   "metadata": {},
   "outputs": [
    {
     "name": "stdout",
     "output_type": "stream",
     "text": [
      "I am a Kangaroo located at coordinates (3,0)\n"
     ]
    }
   ],
   "source": [
    "k.jump(1,0)\n",
    "k.jump(1,0)\n",
    "k.jump(1,0)\n",
    "print(k)"
   ]
  },
  {
   "cell_type": "markdown",
   "id": "d4eb5571",
   "metadata": {},
   "source": [
    "#QUESTION 4"
   ]
  },
  {
   "cell_type": "code",
   "execution_count": 16,
   "id": "8297e6a5",
   "metadata": {},
   "outputs": [],
   "source": [
    "def collatz(j):\n",
    "    print(j)\n",
    "\n",
    "    if j == 1:\n",
    "        return\n",
    "\n",
    "    if j % 2 == 0:\n",
    "        collatz(j // 2)\n",
    "    else:\n",
    "        collatz(3 * j + 1)"
   ]
  },
  {
   "cell_type": "code",
   "execution_count": 17,
   "id": "bea9b4a1",
   "metadata": {},
   "outputs": [
    {
     "name": "stdout",
     "output_type": "stream",
     "text": [
      "1\n"
     ]
    }
   ],
   "source": [
    "collatz(1)"
   ]
  },
  {
   "cell_type": "code",
   "execution_count": 18,
   "id": "414335d0",
   "metadata": {},
   "outputs": [
    {
     "name": "stdout",
     "output_type": "stream",
     "text": [
      "10\n",
      "5\n",
      "16\n",
      "8\n",
      "4\n",
      "2\n",
      "1\n"
     ]
    }
   ],
   "source": [
    "collatz(10)"
   ]
  },
  {
   "cell_type": "markdown",
   "id": "94784394",
   "metadata": {},
   "source": [
    "#QUESTION 5"
   ]
  },
  {
   "cell_type": "code",
   "execution_count": 19,
   "id": "2a3bc6ef",
   "metadata": {},
   "outputs": [],
   "source": [
    "def binary(j):\n",
    "    if j > 1:\n",
    "        binary(j//2)\n",
    "    print(j % 2, end='')"
   ]
  },
  {
   "cell_type": "code",
   "execution_count": 20,
   "id": "459f902a",
   "metadata": {},
   "outputs": [
    {
     "name": "stdout",
     "output_type": "stream",
     "text": [
      "0"
     ]
    }
   ],
   "source": [
    "binary(0)\n"
   ]
  },
  {
   "cell_type": "code",
   "execution_count": 21,
   "id": "2ca904d2",
   "metadata": {},
   "outputs": [
    {
     "name": "stdout",
     "output_type": "stream",
     "text": [
      "1"
     ]
    }
   ],
   "source": [
    "binary(1)\n"
   ]
  },
  {
   "cell_type": "code",
   "execution_count": 22,
   "id": "b05a9afb",
   "metadata": {},
   "outputs": [
    {
     "name": "stdout",
     "output_type": "stream",
     "text": [
      "11"
     ]
    }
   ],
   "source": [
    "binary(3)\n"
   ]
  },
  {
   "cell_type": "code",
   "execution_count": 23,
   "id": "e1b85b5a",
   "metadata": {},
   "outputs": [
    {
     "name": "stdout",
     "output_type": "stream",
     "text": [
      "1001"
     ]
    }
   ],
   "source": [
    "binary(9)"
   ]
  },
  {
   "cell_type": "markdown",
   "id": "64cf4858",
   "metadata": {},
   "source": [
    "#QUESTION 7"
   ]
  },
  {
   "cell_type": "code",
   "execution_count": 29,
   "id": "23002174",
   "metadata": {},
   "outputs": [
    {
     "name": "stdout",
     "output_type": "stream",
     "text": [
      "http://reed.cs.depaul.edu/lperkovic/csc242/test1.html\n"
     ]
    }
   ],
   "source": [
    "import requests\n",
    "\n",
    "def webdir(url, depth, indent):\n",
    "    # Print the current URL with appropriate indentation\n",
    "    print(' ' * indent + url)\n",
    "\n",
    "    # Base case: depth reaches 0\n",
    "    if depth == 0:\n",
    "        return\n",
    "\n",
    "    # Send a GET request to the URL\n",
    "    response = requests.get(url)\n",
    "\n",
    "    # Check if the request was successful\n",
    "    if response.status_code == 200:\n",
    "        # Extract all the links from the web page\n",
    "        links = extract_links(response.text)\n",
    "\n",
    "        # Recursively call webdir() on each link\n",
    "        for link in links:\n",
    "            webdir(link, depth - 1, indent + 1)\n",
    "\n",
    "def extract_links(html):\n",
    "    \n",
    "    return ['http://reed.cs.depaul.edu/lperkovic/csc242/test2.html',\n",
    "            'http://reed.cs.depaul.edu/lperkovic/csc242/test4.html',\n",
    "            'http://reed.cs.depaul.edu/lperkovic/csc242/test3.html',\n",
    "            'http://reed.cs.depaul.edu/lperkovic/csc242/test4.html']\n",
    "\n",
    "# Test the webdir() function\n",
    "webdir('http://reed.cs.depaul.edu/lperkovic/csc242/test1.html', 2, 0)"
   ]
  },
  {
   "cell_type": "markdown",
   "id": "ab97d714",
   "metadata": {},
   "source": [
    "#QUESTION 8"
   ]
  },
  {
   "cell_type": "code",
   "execution_count": 30,
   "id": "7dabd3e2",
   "metadata": {},
   "outputs": [],
   "source": [
    "import sqlite3\n",
    "\n",
    "# connect to database\n",
    "conn = sqlite3.connect('meteorology.db')\n",
    "\n",
    "# create cursor object\n",
    "c = conn.cursor()\n",
    "\n",
    "# create table \n",
    "c.execute('''CREATE TABLE Forecast\n",
    "            (\n",
    "                City TEXT,\n",
    "                Country TEXT,\n",
    "                Season TEXT,\n",
    "                Temperature REAL,\n",
    "                Rainfall REAL\n",
    "             )''')\n",
    "\n",
    "# insert data into table \n",
    "climate_data = [('Mumbai', 'India', 'Winter', 24.8, 5.9),\n",
    "                ('Mumbai', 'India', 'Spring', 28.4, 16.2),\n",
    "                ('Mumbai', 'India', 'Summer', 27.9, 1549.4),\n",
    "                ('Mumbai', 'India', 'Fall', 27.6, 346.0),\n",
    "                ('London', 'United Kingdom', 'Winter', 4.2, 207.7),\n",
    "                ('London', 'United Kingdom', 'Spring', 8.3, 169.6),\n",
    "                ('London', 'United Kingdom', 'Summer', 15.7, 157.0),\n",
    "                ('London', 'United Kingdom', 'Fall', 10.4, 218.5),\n",
    "                ('Cairo', 'Egypt', 'Winter', 13.6, 16.5),\n",
    "                ('Cairo', 'Egypt', 'Spring', 20.7, 6.5),\n",
    "                ('Cairo', 'Egypt', 'Summer', 27.7, 0.1),\n",
    "                ('Cairo', 'Egypt', 'Fall', 22.2, 4.5)]\n",
    "c.executemany('INSERT INTO Forecast VALUES (?, ?, ?, ?, ?)', climate_data)\n",
    "\n",
    "# commit changes and close connection\n",
    "conn.commit()\n",
    "conn.close()"
   ]
  },
  {
   "cell_type": "code",
   "execution_count": 31,
   "id": "b13659d1",
   "metadata": {},
   "outputs": [],
   "source": [
    "import sqlite3\n",
    "\n",
    "# connect to database\n",
    "conn = sqlite3.connect('meteorology.db')\n",
    "\n",
    "# create cursor object\n",
    "c = conn.cursor()"
   ]
  },
  {
   "cell_type": "markdown",
   "id": "4d534ef6",
   "metadata": {},
   "source": [
    "a) All the temperature data"
   ]
  },
  {
   "cell_type": "code",
   "execution_count": 32,
   "id": "46621068",
   "metadata": {},
   "outputs": [
    {
     "name": "stdout",
     "output_type": "stream",
     "text": [
      "[(24.8,), (28.4,), (27.9,), (27.6,), (4.2,), (8.3,), (15.7,), (10.4,), (13.6,), (20.7,), (27.7,), (22.2,)]\n"
     ]
    }
   ],
   "source": [
    "c.execute('SELECT Temperature FROM Forecast')\n",
    "temperature_data = c.fetchall()\n",
    "print(temperature_data)"
   ]
  },
  {
   "cell_type": "markdown",
   "id": "54658f5f",
   "metadata": {},
   "source": [
    "b) All the cities, but without repetition"
   ]
  },
  {
   "cell_type": "code",
   "execution_count": 33,
   "id": "c8b20769",
   "metadata": {},
   "outputs": [
    {
     "name": "stdout",
     "output_type": "stream",
     "text": [
      "[('Mumbai',), ('London',), ('Cairo',)]\n"
     ]
    }
   ],
   "source": [
    "c.execute('SELECT DISTINCT City FROM Forecast')\n",
    "cities = c.fetchall()\n",
    "print(cities)"
   ]
  },
  {
   "cell_type": "markdown",
   "id": "22b92997",
   "metadata": {},
   "source": [
    "c) All the records for India."
   ]
  },
  {
   "cell_type": "code",
   "execution_count": 34,
   "id": "985252c0",
   "metadata": {},
   "outputs": [
    {
     "name": "stdout",
     "output_type": "stream",
     "text": [
      "[('Mumbai', 'India', 'Winter', 24.8, 5.9), ('Mumbai', 'India', 'Spring', 28.4, 16.2), ('Mumbai', 'India', 'Summer', 27.9, 1549.4), ('Mumbai', 'India', 'Fall', 27.6, 346.0)]\n"
     ]
    }
   ],
   "source": [
    "c.execute(\"SELECT * FROM Forecast WHERE Country = 'India'\")\n",
    "india_records = c.fetchall()\n",
    "print(india_records)"
   ]
  },
  {
   "cell_type": "markdown",
   "id": "56ba6fee",
   "metadata": {},
   "source": [
    "d) All the Fall records"
   ]
  },
  {
   "cell_type": "code",
   "execution_count": 35,
   "id": "3db82c8b",
   "metadata": {},
   "outputs": [
    {
     "name": "stdout",
     "output_type": "stream",
     "text": [
      "[('Mumbai', 'India', 'Fall', 27.6, 346.0), ('London', 'United Kingdom', 'Fall', 10.4, 218.5), ('Cairo', 'Egypt', 'Fall', 22.2, 4.5)]\n"
     ]
    }
   ],
   "source": [
    "c.execute(\"SELECT * FROM Forecast WHERE Season = 'Fall'\")\n",
    "fall_records = c.fetchall()\n",
    "print(fall_records)"
   ]
  },
  {
   "cell_type": "markdown",
   "id": "499b3a66",
   "metadata": {},
   "source": [
    "e) The city, country, and season for which the average rainfall is between 200 and 400 millimeters."
   ]
  },
  {
   "cell_type": "code",
   "execution_count": 36,
   "id": "82329365",
   "metadata": {},
   "outputs": [
    {
     "name": "stdout",
     "output_type": "stream",
     "text": [
      "[('London', 'United Kingdom', 'Fall'), ('London', 'United Kingdom', 'Winter'), ('Mumbai', 'India', 'Fall')]\n"
     ]
    }
   ],
   "source": [
    "c.execute(\"SELECT City, Country, Season FROM Forecast WHERE Rainfall BETWEEN 200 AND 400 GROUP BY City, Country, Season\")\n",
    "rainfall_records = c.fetchall()\n",
    "print(rainfall_records)"
   ]
  },
  {
   "cell_type": "markdown",
   "id": "5e6abf34",
   "metadata": {},
   "source": [
    "f) The city and country for which the average Fall temperature is above 20 degrees, in increasing temperature order."
   ]
  },
  {
   "cell_type": "code",
   "execution_count": 37,
   "id": "c2653deb",
   "metadata": {},
   "outputs": [
    {
     "name": "stdout",
     "output_type": "stream",
     "text": [
      "[('Cairo', 'Egypt'), ('Mumbai', 'India')]\n"
     ]
    }
   ],
   "source": [
    "c.execute(\"SELECT City, Country FROM Forecast WHERE Season = 'Fall' GROUP BY City, Country HAVING AVG(Temperature) > 20 ORDER BY AVG(Temperature) ASC\")\n",
    "fall_temp_records = c.fetchall()\n",
    "print(fall_temp_records)"
   ]
  },
  {
   "cell_type": "markdown",
   "id": "aacb09e1",
   "metadata": {},
   "source": [
    "g) The total annual rainfall for Cairo."
   ]
  },
  {
   "cell_type": "code",
   "execution_count": 38,
   "id": "47f6d2bd",
   "metadata": {},
   "outputs": [
    {
     "name": "stdout",
     "output_type": "stream",
     "text": [
      "27.6\n"
     ]
    }
   ],
   "source": [
    "c.execute(\"SELECT SUM(Rainfall) AS Total_Rainfall FROM Forecast WHERE City = 'Cairo'\")\n",
    "cairo_rainfall = c.fetchone()[0]\n",
    "print(cairo_rainfall)"
   ]
  },
  {
   "cell_type": "markdown",
   "id": "f95bf8f0",
   "metadata": {},
   "source": [
    "h) The total rainfall for each season"
   ]
  },
  {
   "cell_type": "code",
   "execution_count": 39,
   "id": "06dff853",
   "metadata": {},
   "outputs": [
    {
     "name": "stdout",
     "output_type": "stream",
     "text": [
      "[('Fall', 569.0), ('Spring', 192.29999999999998), ('Summer', 1706.5), ('Winter', 230.1)]\n"
     ]
    }
   ],
   "source": [
    "c.execute(\"SELECT Season, SUM(Rainfall) AS Total_Rainfall FROM Forecast GROUP BY Season\")\n",
    "season_rainfall = c.fetchall()\n",
    "print(season_rainfall)"
   ]
  },
  {
   "cell_type": "markdown",
   "id": "0635090e",
   "metadata": {},
   "source": [
    "#QUESTION 9"
   ]
  },
  {
   "cell_type": "code",
   "execution_count": 40,
   "id": "2226298e",
   "metadata": {},
   "outputs": [],
   "source": [
    "words = ['The', 'quick', 'brown', 'fox', 'jumps', 'over', \n",
    "'the', 'lazy', 'dog']"
   ]
  },
  {
   "cell_type": "markdown",
   "id": "130e30b5",
   "metadata": {},
   "source": [
    "a"
   ]
  },
  {
   "cell_type": "code",
   "execution_count": 41,
   "id": "6ad018de",
   "metadata": {},
   "outputs": [
    {
     "name": "stdout",
     "output_type": "stream",
     "text": [
      "['THE', 'QUICK', 'BROWN', 'FOX', 'JUMPS', 'OVER', 'THE', 'LAZY', 'DOG']\n"
     ]
    }
   ],
   "source": [
    "Vocabulary = [word.upper() for word in words]\n",
    "print(Vocabulary)"
   ]
  },
  {
   "cell_type": "markdown",
   "id": "176d960d",
   "metadata": {},
   "source": [
    "b"
   ]
  },
  {
   "cell_type": "code",
   "execution_count": 42,
   "id": "cc1bceea",
   "metadata": {},
   "outputs": [
    {
     "name": "stdout",
     "output_type": "stream",
     "text": [
      "['the', 'quick', 'brown', 'fox', 'jumps', 'over', 'the', 'lazy', 'dog']\n"
     ]
    }
   ],
   "source": [
    "Vocabulary = [word.lower() for word in words]\n",
    "print(Vocabulary)"
   ]
  },
  {
   "cell_type": "markdown",
   "id": "81c7072f",
   "metadata": {},
   "source": [
    "c"
   ]
  },
  {
   "cell_type": "code",
   "execution_count": 43,
   "id": "d285851f",
   "metadata": {},
   "outputs": [
    {
     "name": "stdout",
     "output_type": "stream",
     "text": [
      "[3, 5, 5, 3, 5, 4, 3, 4, 3]\n"
     ]
    }
   ],
   "source": [
    "Vocabulary_lengths = [len(word) for word in words]\n",
    "print(Vocabulary_lengths)"
   ]
  },
  {
   "cell_type": "markdown",
   "id": "4ec96f17",
   "metadata": {},
   "source": [
    "d"
   ]
  },
  {
   "cell_type": "code",
   "execution_count": 44,
   "id": "574dee7f",
   "metadata": {},
   "outputs": [
    {
     "name": "stdout",
     "output_type": "stream",
     "text": [
      "[['THE', 'the', 3], ['QUICK', 'quick', 5], ['BROWN', 'brown', 5], ['FOX', 'fox', 3], ['JUMPS', 'jumps', 5], ['OVER', 'over', 4], ['THE', 'the', 3], ['LAZY', 'lazy', 4], ['DOG', 'dog', 3]]\n"
     ]
    }
   ],
   "source": [
    "Vocabulary = [[word.upper(), word.lower(), len(word)] for word in words]\n",
    "print(Vocabulary)"
   ]
  },
  {
   "cell_type": "markdown",
   "id": "97100ffa",
   "metadata": {},
   "source": [
    "e"
   ]
  },
  {
   "cell_type": "code",
   "execution_count": 45,
   "id": "9c88dcf0",
   "metadata": {},
   "outputs": [
    {
     "name": "stdout",
     "output_type": "stream",
     "text": [
      "['quick', 'brown', 'jumps', 'over', 'lazy']\n"
     ]
    }
   ],
   "source": [
    "Vocabulary = [word for word in words if len(word) >= 4]\n",
    "print(Vocabulary)"
   ]
  },
  {
   "cell_type": "code",
   "execution_count": null,
   "id": "d2bacf94",
   "metadata": {},
   "outputs": [],
   "source": []
  },
  {
   "cell_type": "code",
   "execution_count": null,
   "id": "10efc648",
   "metadata": {},
   "outputs": [],
   "source": []
  },
  {
   "cell_type": "code",
   "execution_count": null,
   "id": "2f4739fd",
   "metadata": {},
   "outputs": [],
   "source": []
  },
  {
   "cell_type": "code",
   "execution_count": null,
   "id": "82ff1f9f",
   "metadata": {},
   "outputs": [],
   "source": []
  }
 ],
 "metadata": {
  "kernelspec": {
   "display_name": "Python 3 (ipykernel)",
   "language": "python",
   "name": "python3"
  },
  "language_info": {
   "codemirror_mode": {
    "name": "ipython",
    "version": 3
   },
   "file_extension": ".py",
   "mimetype": "text/x-python",
   "name": "python",
   "nbconvert_exporter": "python",
   "pygments_lexer": "ipython3",
   "version": "3.10.9"
  }
 },
 "nbformat": 4,
 "nbformat_minor": 5
}
